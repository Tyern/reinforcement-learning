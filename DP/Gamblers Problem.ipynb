{
 "cells": [
  {
   "cell_type": "markdown",
   "metadata": {
    "collapsed": true
   },
   "source": [
    "### This is Example 4.3. Gambler’s Problem from Sutton's book.\n",
    "\n",
    "A gambler has the opportunity to make bets on the outcomes of a sequence of coin flips. \n",
    "If the coin comes up heads, he wins as many dollars as he has staked on that flip; \n",
    "if it is tails, he loses his stake. The game ends when the gambler wins by reaching his goal of $100, \n",
    "or loses by running out of money. \n",
    "\n",
    "On each flip, the gambler must decide what portion of his capital to stake, in integer numbers of dollars. \n",
    "This problem can be formulated as an undiscounted, episodic, finite MDP. \n",
    "\n",
    "The state is the gambler’s capital, s ∈ {1, 2, . . . , 99}.\n",
    "The actions are stakes, a ∈ {0, 1, . . . , min(s, 100 − s)}. \n",
    "The reward is zero on all transitions except those on which the gambler reaches his goal, when it is +1.\n",
    "\n",
    "The state-value function then gives the probability of winning from each state. A policy is a mapping from levels of capital to stakes. The optimal policy maximizes the probability of reaching the goal. Let p_h denote the probability of the coin coming up heads. If p_h is known, then the entire problem is known and it can be solved, for instance, by value iteration.\n"
   ]
  },
  {
   "cell_type": "code",
   "execution_count": 1,
   "metadata": {},
   "outputs": [],
   "source": [
    "import numpy as np\n",
    "import sys\n",
    "import matplotlib.pyplot as plt\n",
    "if \"../\" not in sys.path:\n",
    "  sys.path.append(\"../\") "
   ]
  },
  {
   "cell_type": "markdown",
   "metadata": {
    "collapsed": true
   },
   "source": [
    "\n",
    "### Exercise 4.9 (programming)\n",
    "\n",
    "Implement value iteration for the gambler’s problem and solve it for p_h = 0.25 and p_h = 0.55.\n",
    "\n"
   ]
  },
  {
   "cell_type": "code",
   "execution_count": 44,
   "metadata": {},
   "outputs": [],
   "source": [
    "def value_iteration_for_gamblers(p_h, theta=0.0001, discount_factor=1.0):\n",
    "    \"\"\"\n",
    "    Args:\n",
    "        p_h: Probability of the coin coming up heads\n",
    "    \"\"\"\n",
    "    \n",
    "    def one_step_lookahead(s, V, rewards):\n",
    "        \"\"\"\n",
    "        Helper function to calculate the value for all action in a given state.\n",
    "        \n",
    "        Args:\n",
    "            s: The gambler’s capital. Integer.\n",
    "            V: The vector that contains values at each state. \n",
    "            rewards: The reward vector.\n",
    "                        \n",
    "        Returns:\n",
    "            A vector containing the expected value of each action. \n",
    "            Its length equals to the number of actions.\n",
    "        \"\"\"\n",
    "        \n",
    "        # Implement!\n",
    "        A = np.zeros_like(V)\n",
    "        \n",
    "        can_bet_n = min(s, 100 - s)\n",
    "        \n",
    "        for bet in range(1, can_bet_n + 1):\n",
    "            A[bet] = p_h * (rewards[min(s + bet, 100)] + discount_factor * V[min(s + bet, 100)]) + \\\n",
    "                (1 - p_h) * (rewards[s - bet] + discount_factor * V[s - bet])\n",
    "            \n",
    "        return A\n",
    "\n",
    "    # Implement!\n",
    "    policy = np.ones(101)\n",
    "    V = np.zeros(101)\n",
    "    rewards = np.zeros(101)\n",
    "    rewards[100] = 1\n",
    "    \n",
    "    while True:\n",
    "    \n",
    "        v_next_state = np.zeros_like(V)\n",
    "        distance = 0\n",
    "        \n",
    "        for s in range(1, 1 + 100):\n",
    "\n",
    "            A = one_step_lookahead(s, V, rewards)\n",
    "\n",
    "            v_next_state[s] = np.max(A)\n",
    "\n",
    "            distance = max(distance, np.abs(V[s] - v_next_state[s]))\n",
    "\n",
    "        if distance < theta:\n",
    "            break\n",
    "        else:\n",
    "            V =  v_next_state.copy()\n",
    "\n",
    "    for s in range(1, 1 + 100):\n",
    "\n",
    "        A = one_step_lookahead(s, V, rewards)\n",
    "\n",
    "        policy[s] = np.argmax(A)\n",
    "\n",
    "    return policy, V"
   ]
  },
  {
   "cell_type": "code",
   "execution_count": 45,
   "metadata": {},
   "outputs": [
    {
     "name": "stdout",
     "output_type": "stream",
     "text": [
      "Optimized Policy:\n",
      "[ 1.  1.  2.  3.  4.  5.  6.  7.  8.  9. 10. 11. 12. 12. 11. 10.  9.  8.\n",
      "  7.  6.  5.  4.  3.  2.  1. 25.  1.  2.  3.  4.  5.  6.  7.  8.  9. 10.\n",
      " 11. 12. 12. 11. 10.  9.  8.  7.  6.  5.  4.  3.  2.  1. 50.  1.  2.  3.\n",
      "  4.  5.  6.  7.  8.  9. 10. 11. 12. 12. 11. 10.  9.  8.  7.  6.  5.  4.\n",
      "  3.  2.  1. 25.  1.  2.  3.  4.  5.  6.  7.  8.  9. 10. 11. 12. 12. 11.\n",
      " 10.  9.  8.  7.  6.  5.  4.  3.  2.  1.  0.]\n",
      "\n",
      "Optimized Value Function:\n",
      "[0.00000000e+00 7.26133585e-05 2.90855765e-04 6.90504909e-04\n",
      " 1.16463006e-03 1.77027285e-03 2.77288258e-03 4.03504074e-03\n",
      " 4.66214120e-03 5.60118258e-03 7.08471239e-03 9.04084742e-03\n",
      " 1.11241192e-02 1.56793594e-02 1.61401629e-02 1.69517994e-02\n",
      " 1.86485648e-02 1.98249817e-02 2.24047303e-02 2.73845196e-02\n",
      " 2.83388495e-02 3.04937363e-02 3.61633897e-02 3.84953022e-02\n",
      " 4.44964767e-02 6.25000000e-02 6.27178401e-02 6.33725673e-02\n",
      " 6.45715147e-02 6.59938902e-02 6.78108186e-02 7.08186477e-02\n",
      " 7.46051222e-02 7.64864236e-02 7.93035477e-02 8.37541372e-02\n",
      " 8.96225423e-02 9.58723575e-02 1.09538078e-01 1.10920489e-01\n",
      " 1.13355398e-01 1.18445694e-01 1.21974945e-01 1.29714191e-01\n",
      " 1.44653559e-01 1.47516549e-01 1.53981209e-01 1.70990169e-01\n",
      " 1.77985907e-01 1.95989430e-01 2.50000000e-01 2.50217840e-01\n",
      " 2.50872567e-01 2.52071515e-01 2.53493890e-01 2.55310819e-01\n",
      " 2.58318648e-01 2.62105122e-01 2.63986424e-01 2.66803548e-01\n",
      " 2.71254137e-01 2.77122542e-01 2.83372357e-01 2.97038078e-01\n",
      " 2.98420489e-01 3.00855398e-01 3.05945694e-01 3.09474945e-01\n",
      " 3.17214191e-01 3.32153559e-01 3.35016549e-01 3.41481209e-01\n",
      " 3.58490169e-01 3.65485907e-01 3.83489430e-01 4.37500000e-01\n",
      " 4.38153520e-01 4.40117702e-01 4.43714544e-01 4.47981670e-01\n",
      " 4.53432456e-01 4.62455943e-01 4.73815367e-01 4.79459271e-01\n",
      " 4.87910643e-01 5.01262411e-01 5.18867627e-01 5.37617072e-01\n",
      " 5.78614235e-01 5.82761467e-01 5.90066195e-01 6.05337083e-01\n",
      " 6.15924835e-01 6.39142573e-01 6.83960676e-01 6.92549646e-01\n",
      " 7.11943626e-01 7.62970507e-01 7.83957720e-01 8.37968290e-01\n",
      " 0.00000000e+00]\n",
      "\n"
     ]
    }
   ],
   "source": [
    "policy, v = value_iteration_for_gamblers(0.25)\n",
    "\n",
    "print(\"Optimized Policy:\")\n",
    "print(policy)\n",
    "print(\"\")\n",
    "\n",
    "print(\"Optimized Value Function:\")\n",
    "print(v)\n",
    "print(\"\")"
   ]
  },
  {
   "cell_type": "code",
   "execution_count": 46,
   "metadata": {},
   "outputs": [
    {
     "data": {
      "text/plain": [
       "[<matplotlib.lines.Line2D at 0x26469794df0>]"
      ]
     },
     "execution_count": 46,
     "metadata": {},
     "output_type": "execute_result"
    },
    {
     "data": {
      "image/png": "[encoded data removed]",
      "text/plain": [
       "<Figure size 850x680 with 1 Axes>"
      ]
     },
     "metadata": {
      "needs_background": "light"
     },
     "output_type": "display_data"
    }
   ],
   "source": [
    "# Plotting Final Policy (action stake) vs State (Capital)\n",
    "plt.figure(figsize=(5, 4), dpi=170)\n",
    "plt.plot(range(len(v)), v)\n",
    "# Implement!"
   ]
  },
  {
   "cell_type": "code",
   "execution_count": 47,
   "metadata": {},
   "outputs": [
    {
     "data": {
      "text/plain": [
       "<BarContainer object of 101 artists>"
      ]
     },
     "execution_count": 47,
     "metadata": {},
     "output_type": "execute_result"
    },
    {
     "data": {
      "image/png": "[encoded data removed]",
      "text/plain": [
       "<Figure size 850x680 with 1 Axes>"
      ]
     },
     "metadata": {
      "needs_background": "light"
     },
     "output_type": "display_data"
    }
   ],
   "source": [
    "# Plotting Capital vs Final Policy\n",
    "plt.figure(figsize=(5, 4), dpi=170)\n",
    "plt.bar(range(len(policy)), policy)\n",
    "# Implement!\n"
   ]
  },
  {
   "cell_type": "code",
   "execution_count": null,
   "metadata": {},
   "outputs": [],
   "source": []
  },
  {
   "cell_type": "code",
   "execution_count": null,
   "metadata": {},
   "outputs": [],
   "source": []
  }
 ],
 "metadata": {
  "kernelspec": {
   "display_name": "Python 3",
   "language": "python",
   "name": "python3"
  },
  "language_info": {
   "codemirror_mode": {
    "name": "ipython",
    "version": 3
   },
   "file_extension": ".py",
   "mimetype": "text/x-python",
   "name": "python",
   "nbconvert_exporter": "python",
   "pygments_lexer": "ipython3",
   "version": "3.8.5"
  }
 },
 "nbformat": 4,
 "nbformat_minor": 1
}
